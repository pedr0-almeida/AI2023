{
  "cells": [
    {
      "cell_type": "markdown",
      "metadata": {
        "id": "view-in-github",
        "colab_type": "text"
      },
      "source": [
        "<a href=\"https://colab.research.google.com/github/pedr0-almeida/AI2023/blob/main/Tarefa_1_Trocadores_de_Calor_2.ipynb\" target=\"_parent\"><img src=\"https://colab.research.google.com/assets/colab-badge.svg\" alt=\"Open In Colab\"/></a>"
      ]
    },
    {
      "cell_type": "code",
      "execution_count": null,
      "metadata": {
        "id": "Q4rxtjKKCSVZ"
      },
      "outputs": [],
      "source": [
        "import numpy as np\n",
        "from random import randint"
      ]
    },
    {
      "cell_type": "code",
      "execution_count": null,
      "metadata": {
        "id": "PWIY1PGq9Is1"
      },
      "outputs": [],
      "source": [
        "def CalcFit(fun):\n",
        "    result=0\n",
        "    if(fun>=0):\n",
        "      result=1/(fun+1)\n",
        "    else:\n",
        "      result=1+abs(fun)\n",
        "    return result"
      ]
    },
    {
      "cell_type": "code",
      "execution_count": null,
      "metadata": {
        "id": "0NTJi_Y6x7zi"
      },
      "outputs": [],
      "source": [
        "# Target: temperatures initial and target\n",
        "Target = {'H1':[180,75],'H2':[280,120],'H3':[180,75],'H4':[140,40],\n",
        "          'H5':[220,120],'H6':[180,55],'H7':[200,60],'H8':[120,40],\n",
        "          'C1':[40,230],'C2':[100,220],'C3':[40,190],'C4':[50,190],\n",
        "          'C5':[50,250],'C6':[90,190],'C7':[160,250]}\n",
        "\n",
        "Util = {'cold':[25,40],'hot':[325,325]}\n",
        "\n",
        "# Temperatures (hot streams first, cold after and starting with H/C for hot and cold) otherwise need to adapt the code\n",
        "Prop = {'H1':[30,2],'H2':[60,1],'H3':[30,2],'H4':[30,1],'H5':[50,1],\n",
        "        'H6':[35,2],'H7':[30,0.4],'H8':[100,0.5],'C1':[20,1],'C2':[60,1],\n",
        "        'C3':[35,2],'C4':[30,2],'C5':[60,2],'C6':[50,1],'C7':[60,3],\n",
        "        'cold':[4.186,2],'hot':[431.379,1]} # CP e H\n",
        "\n",
        "n_hot = 8\n",
        "\n",
        "# w input of swarm intelligence size = n_exchages*num_hot\n",
        "n_trocas = 3\n"
      ]
    },
    {
      "cell_type": "code",
      "execution_count": null,
      "metadata": {
        "id": "sQIGR7YpyBv6"
      },
      "outputs": [],
      "source": [
        "def Cost_find(w,Target = Target, Prop = Prop, Util= Util, n_trocas = n_trocas, ans = False ):\n",
        "  w = list(w)\n",
        "  Gasta_cold = [] # [Area,flow,kwy] for each stream\n",
        "  Gasta_hot = []  # [Area,flow,kwy] for each stream\n",
        "  U_q =[]\n",
        "  names = list(Target.keys())\n",
        "  n_hot, n_cold, stream= 0, 0, ['No']\n",
        "  # constroi temperaturas\n",
        "  Temp ={}\n",
        "  for word in names:\n",
        "    Temp[word]=[Target[word][0]]\n",
        "\n",
        "  for word in names:\n",
        "    if 'H' in word:\n",
        "      n_hot += 1\n",
        "    elif 'C' in word:\n",
        "      n_cold += 1\n",
        "      stream.append(word)\n",
        "  \n",
        "  N = len(stream)\n",
        "  r = 1/N\n",
        "  trocas =[]\n",
        "  Areas = []\n",
        "  n = n_trocas*n_hot\n",
        "  \n",
        "  x = w[0:n]\n",
        "  tx = w[n:(2*n)]\n",
        "\n",
        "  cont = 0\n",
        "  for xi in x:\n",
        "    total = 0\n",
        "    cont += 1\n",
        "    for k in range(N):\n",
        "      total += r\n",
        "      if xi <= total:\n",
        "        trocas.append(stream[k])\n",
        "        break \n",
        "  n1, n2, matrix_trocas, xt_hot = 0, 0, [],[]\n",
        "\n",
        "  while(len(trocas) < n):\n",
        "    trocas.append('No')\n",
        "  \n",
        "  num = int(len(trocas)/n_hot)\n",
        "  # print('num',num, trocas)\n",
        "\n",
        "  for idx in range(n_hot):\n",
        "    tr, dr =  [], []\n",
        "    n2 = num*(1+idx)\n",
        "    tr.append(trocas[n1:n2])\n",
        "    dr.append(tx[n1:n2])\n",
        "    matrix_trocas.append(tr[0])\n",
        "    xt_hot.append(dr[0])\n",
        "    n1 = n2\n",
        "  \n",
        "  idx = 0\n",
        "  # update hot temperature\n",
        "  for j in range(n_trocas):\n",
        "    for k in range(n_hot):\n",
        "      x = Temp[names[k]][idx]\n",
        "      # print('matrix_trocas, k,j',matrix_trocas, k,j)\n",
        "      cold = matrix_trocas[k][j]\n",
        "      hot = names[k]\n",
        "      if cold == 'No':\n",
        "        Temp[names[k]].append(x)\n",
        "      else:\n",
        "        # x, y = hot and cold temperatures\n",
        "        dx = Target[hot][0]-Target[hot][1]\n",
        "        x0 = x* 1.0\n",
        "        y0 = Temp[cold][-1]\n",
        "        x = x - dx * xt_hot[k][j]\n",
        "        CP_c = Prop[cold][0]\n",
        "        CP_h = Prop[hot][0]\n",
        "        Q = CP_c* dx * xt_hot[k][j]\n",
        "        y = CP_h*dx * xt_hot[k][j]/CP_c + Temp[cold][-1]\n",
        "        d1 = x0- y\n",
        "        d2 = x - y0\n",
        "        U = 1.0 / ( 1.0/Prop[cold][1]+ 1.0/Prop[hot][1])\n",
        "        if d2 != 0 and d1*d2 > 0:\n",
        "          check = 'ok'\n",
        "        else:\n",
        "          check = 'no'\n",
        "        if x0 > y and x > y0 and check == 'ok': # so troca calor se a temperatura fria final for menor q a temperatura quente final\n",
        "          Temp[cold].append(y)\n",
        "          Temp[names[k]].append(x)\n",
        "          LMDT = (d1 - d2) / np.log(d1/d2)\n",
        "          A = Q /(U*LMDT) \n",
        "          Areas.append(A)\n",
        "          U_q.append(U)\n",
        "        else:\n",
        "          y = Temp[cold][-1]\n",
        "          x = Temp[names[k]][-1]\n",
        "          Temp[cold].append(y)\n",
        "          Temp[names[k]].append(x)       \n",
        "    idx += 1\n",
        "\n",
        "  cp_hot = Prop['hot'][0] # cp\n",
        "  dt = Util['cold'][1]-Util['cold'][0]\n",
        "  cp_cold = Prop['cold'][0]*dt \n",
        "\n",
        "  for word in names:\n",
        "    x0 = Temp[word][-1]\n",
        "    x = Target[word][1]\n",
        "    cp = Prop[word][0]\n",
        "    Q = cp*abs(x-x0)\n",
        "    \n",
        "    if x0 < x : # cooling activate\n",
        "      flow = Q/cp_cold\n",
        "      U = 1.0 / ( 1.0/Prop[word][1]+ 1.0/Prop['cold'][1])\n",
        "      y0 = Util['cold'][0]\n",
        "      y = Util['cold'][1]\n",
        "      d1 = x0- y\n",
        "      d2 = x - y0   \n",
        "      if d2 != 0 and d1*d2 > 0:\n",
        "        check = 'ok'\n",
        "      else:\n",
        "        check = 'no'\n",
        "      \n",
        "\n",
        "      # so troca calor se a temperatura fria final for menor q a temperatura quente final\n",
        "      if x0 > y and x > y0 and check == 'ok': \n",
        "        #print('d1,d2',d1,d2)\n",
        "        LMDT = (d1 - d2) / np.log(d1/d2)\n",
        "        A = Q /(U*LMDT) # convert MW to kW\n",
        "        kW = Q\n",
        "        Gasta_cold.append([A,flow,kW])   \n",
        "    else:\n",
        "      flow = Q / cp_hot \n",
        "      U = 1.0 / ( 1.0/Prop[word][1]+ 1.0/Prop['cold'][1])\n",
        "      y0 = Util['hot'][0]\n",
        "      y = Util['hot'][1]\n",
        "      d1 = y-x0 \n",
        "      d2 = y0  -x   \n",
        "      if d2 != 0 and d1*d2 > 0:\n",
        "        check = 'ok'\n",
        "      else:\n",
        "        check = 'no'\n",
        "      if x0 < y and x < y0 and check == 'ok': # so troca calor se a temperatura fria final for menor q a temperatura quente final\n",
        "        #print('d1,d2',d1,d2)\n",
        "        LMDT = (d1 - d2) / np.log(d1/d2)\n",
        "        A = Q /(U*LMDT)\n",
        "        kW= Q\n",
        "        Gasta_hot.append([A,flow,kW])   \n",
        "\n",
        "  Cost = 0\n",
        "  #a, n, h, c = 4333,0.6, 150.53, 53.064 # L.V. Pavao et al. / Energy 142 (2018) 356e372\n",
        "  a1,a2, h, c, N_EXP = 8000, 500, 80, 10, 0.75 # Chemical Engineering Science 158 (2017) 96–107- Pavao et al\n",
        "\n",
        "  for A in Areas:\n",
        "    Cost += a1 + a2*A**N_EXP #a*A**n\n",
        "  for x in Gasta_hot:\n",
        "    Cost += a1+a2*A**N_EXP #a*A**n\n",
        "    Cost += h*x[2] # x[2]: steam \n",
        "\n",
        "  for x in Gasta_cold:\n",
        "    Cost += a1+a2*A**N_EXP # a*x[0]**n\n",
        "    Cost += c*x[2] # x[2]: cold water kW\n",
        "  if np.isnan(Cost)==True:\n",
        "    Cost = 1e99\n",
        "  if ans == False:\n",
        "    return Cost\n",
        "  else:\n",
        "    return Cost, matrix_trocas, Temp"
      ]
    },
    {
      "cell_type": "code",
      "execution_count": null,
      "metadata": {
        "id": "uXh6CEi5DgwJ"
      },
      "outputs": [],
      "source": [
        "##w = [0.3]*4+[0.8]*4+[0.5]*4+[1]*12\n",
        "#print(Cost_find(w))"
      ]
    },
    {
      "cell_type": "code",
      "execution_count": null,
      "metadata": {
        "id": "f8H99CS9AOoB"
      },
      "outputs": [],
      "source": [
        "function = Cost_find\n"
      ]
    },
    {
      "cell_type": "code",
      "execution_count": null,
      "metadata": {
        "id": "sNZ4ruzv-La8"
      },
      "outputs": [],
      "source": [
        "def BestSource(GlobMin,GlobPars,Foods):\n",
        "  FoodNumber=len(Foods[:,0])\n",
        "  D=len(Foods[0,:])\n",
        "  solution=np.zeros(D)\n",
        "  for i in range(FoodNumber):\n",
        "    if (f[i]<GlobMin):\n",
        "      GlobMin=f[i]\n",
        "      for j in range(D):\n",
        "        GlobPars[j]=Foods[i,j]\n",
        "  return GlobMin,GlobPars,Foods"
      ]
    },
    {
      "cell_type": "code",
      "execution_count": null,
      "metadata": {
        "id": "ckFKKQdNAVO1"
      },
      "outputs": [],
      "source": [
        "def init(index,Foods,trial,f,fitness,MIN,MAX):\n",
        "  D=len(Foods[0,:])\n",
        "  FoodNumber=len(Foods[:,0])\n",
        "  solution=np.zeros(D)\n",
        "  for j in range(D):\n",
        "    r=np.random.random()\n",
        "    Foods[index,j]=r*(MAX[j]-MIN[j])+MIN[j]\n",
        "    solution[j]=Foods[index,j]\n",
        "    \n",
        "  f[index]=function(solution)\n",
        "  fitness[index]=CalcFit(f[index])\n",
        "  trial[index]=0\n",
        "  \n",
        "  return Foods,trial,f,fitness"
      ]
    },
    {
      "cell_type": "code",
      "execution_count": null,
      "metadata": {
        "id": "Nbr0xLBdITa5"
      },
      "outputs": [],
      "source": [
        "def initial(fitness,trial,f,Foods,GlobMin,GlobPars,MIN,MAX):\n",
        "  D=len(Foods[0,:])\n",
        "  FoodNumber=len(Foods[:,0])\n",
        "  for i in range(FoodNumber):\n",
        "    Foods,trial,f,fitness=init(i,Foods,trial,f,fitness,MIN,MAX) \n",
        "  GlobMin=f[0]\n",
        "  for i in range(D):\n",
        "    GlobPars[i]=Foods[0,i]\n",
        "  return  f,Foods,GlobMin,GlobPars\n"
      ]
    },
    {
      "cell_type": "code",
      "execution_count": null,
      "metadata": {
        "id": "Jsfc_Dr5MmuX"
      },
      "outputs": [],
      "source": [
        "def EmployedBees(trial,Foods,MIN,MAX):\n",
        "  FoodNumber=len(Foods[:,0])\n",
        "  NP=FoodNumber\n",
        "  D=len(Foods[0,:])\n",
        "  solution=np.zeros(D)\n",
        "  for i in range(FoodNumber):\n",
        "    r = np.random.random()\n",
        "    par2chan= int(r*D)\n",
        "    r = np.random.random()\n",
        "    neighbour=int(r*D)\n",
        "    if(neighbour >= NP):\n",
        "      neighbour=NP-1\n",
        "      \n",
        "    while(neighbour==i):\n",
        "      r = np.random.random()\n",
        "      neighbour=int(r*FoodNumber)\n",
        "      if(neighbour >= NP):\n",
        "        neighbour=NP-1\n",
        "    for j in range(D):\n",
        "      solution[j]=Foods[i,j]\n",
        "\n",
        "    r = np.random.random()\n",
        "    A=Foods[i,par2chan]\n",
        "    B=Foods[neighbour,par2chan]\n",
        "    solution[par2chan]=Foods[i,par2chan]+(A-B)*(r-0.5)*2;\n",
        "    if (solution[par2chan]<MIN[par2chan]):\n",
        "      solution[par2chan]=MIN[par2chan]\n",
        "    if (solution[par2chan]>MAX[par2chan]):\n",
        "      solution[par2chan]=MAX[par2chan]\n",
        "    ObjValSol=function(solution)\n",
        "    FitnessSol=CalcFit(ObjValSol)\n",
        "    \n",
        "    if(FitnessSol>fitness[i]):\n",
        "      trial[i]=0\n",
        "      for j in range(D):\n",
        "        Foods[i,j]=solution[j]\n",
        "      f[i]=ObjValSol\n",
        "      fitness[i]=FitnessSol\n",
        "    else:\n",
        "      trial[i]=trial[i]+1 \n",
        "      \n",
        "  return trial,Foods"
      ]
    },
    {
      "cell_type": "code",
      "execution_count": null,
      "metadata": {
        "id": "yibq0wsUThgD"
      },
      "outputs": [],
      "source": [
        "def CalcProb(fitness,prob):\n",
        "  FoodNumber=len(fitness)\n",
        "  maxfit=fitness[0]\n",
        "  for i in range(1,FoodNumber):    \n",
        "    if (fitness[i]>maxfit):\n",
        "      maxfit=fitness[i]\n",
        "  for i in range(FoodNumber):\n",
        "    prob[i]=(0.9*(fitness[i]/maxfit))+0.1\n",
        "  return fitness,prob\n"
      ]
    },
    {
      "cell_type": "code",
      "execution_count": null,
      "metadata": {
        "id": "RRHG1BVqiNaZ"
      },
      "outputs": [],
      "source": [
        "def OnlookerBees(trial,Foods,MIN,MAX):\n",
        "  D=len(Foods[0,:])\n",
        "  solution=np.zeros(D)\n",
        "  FoodNumber=len(Foods[:,0])\n",
        "  i=0\n",
        "  t=0\n",
        "  while(t<FoodNumber):\n",
        "    r = np.random.random()\n",
        "    if(r<prob[i]): \n",
        "      r = np.random.random()\n",
        "      t=t+1\n",
        "      par2chan=int(r*D)\n",
        "      r = np.random.random()\n",
        "      neighbour=int(r*FoodNumber)\n",
        "\n",
        "      while(neighbour==i):\n",
        "        r = np.random.random()\n",
        "        neighbour=int(r*FoodNumber)\n",
        "      for j in range(D):\n",
        "        solution[j]=Foods[i,j]\n",
        "\n",
        "      r = np.random.random()\n",
        "      A=Foods[i,par2chan]\n",
        "      B=Foods[neighbour,par2chan]\n",
        "      solution[par2chan]=A+(A-B)*(r-0.5)*2\n",
        "\n",
        "      if (solution[par2chan]<MIN[par2chan]):\n",
        "              solution[par2chan]=MIN[par2chan]\n",
        "      if (solution[par2chan]>MAX[par2chan]):\n",
        "              solution[par2chan]=MAX[par2chan]\n",
        "      ObjValSol=function(solution)\n",
        "      FitnessSol=CalcFit(ObjValSol)\n",
        "              \n",
        "      if(FitnessSol>fitness[i]):\n",
        "        trial[i]=0\n",
        "        for j in range(D):\n",
        "          Foods[i,j]=solution[j]\n",
        "        f[i]=ObjValSol\n",
        "        fitness[i]=FitnessSol\n",
        "      else:\n",
        "        trial[i]=trial[i]+1\n",
        "      i=i+1\n",
        "      if (i==FoodNumber):\n",
        "        i=0\n",
        "  return trial,Foods\n"
      ]
    },
    {
      "cell_type": "code",
      "execution_count": null,
      "metadata": {
        "id": "lZT7tTIPRNz4"
      },
      "outputs": [],
      "source": [
        "def ScoutBees(fitness,f,Foods,trial,MIN,MAX):\n",
        "  FoodNumber=len(Foods[:,0])\n",
        "  max_trial=0\n",
        "  for i in range(1,FoodNumber):\n",
        "    if (trial[i]>trial[max_trial]):\n",
        "      max_trial=i\n",
        "  if(trial[max_trial]>=limit):\n",
        "    Foods,trial,f,fitness=init(max_trial,Foods,trial,f,fitness,MIN,MAX)\n",
        "  return trial,Foods\n"
      ]
    },
    {
      "cell_type": "code",
      "execution_count": null,
      "metadata": {
        "colab": {
          "base_uri": "https://localhost:8080/"
        },
        "id": "fHwM7maM7L7K",
        "outputId": "84bda61c-fff5-4f2f-f662-6f8341c60456"
      },
      "outputs": [
        {
          "output_type": "stream",
          "name": "stderr",
          "text": [
            "<ipython-input-4-88099c6ab93d>:85: RuntimeWarning: invalid value encountered in double_scalars\n",
            "  LMDT = (d1 - d2) / np.log(d1/d2)\n",
            "<ipython-input-4-88099c6ab93d>:139: RuntimeWarning: invalid value encountered in double_scalars\n",
            "  LMDT = (d1 - d2) / np.log(d1/d2)\n"
          ]
        },
        {
          "output_type": "stream",
          "name": "stdout",
          "text": [
            "run 1 GBest= 2097159.249217199  \n",
            "\n",
            "run 2 GBest= 1907501.87512557  \n",
            "\n",
            "run 3 GBest= 1835769.6064568174  \n",
            "\n",
            "run 4 GBest= 1929171.8100951668  \n",
            "\n",
            "Means of 4 runs: 1942400.6352236883 \n",
            "\n"
          ]
        }
      ],
      "source": [
        "'''/*Main program of the ABC algorithm*/'''\n",
        "\n",
        "NPAR=30 #Numero de fontes de comida\n",
        "ITE=100 #ITERACOES (maxCycle)\n",
        "PAR=n_hot*n_trocas* 2 #NUM DE PARAMETROS A SER OTIMIZADOS\n",
        "MAX=[] # MAXIMO DE CADA PARAMETRO\n",
        "MIN=[] # MINIMO DE CADA PARAMETRO\n",
        "for k in range(PAR):\n",
        "  MAX.append(1)\n",
        "  MIN.append(0)\n",
        "\n",
        "limit=100 # quantas vezes obtem resposta identica antes de encerrar \n",
        "runtime=4 # quantas vezes vai rodar para tirar a media\n",
        "\n",
        "f=np.zeros(NPAR) \n",
        "Foods=np.zeros((NPAR,PAR)) \n",
        "solution=np.zeros(PAR)\n",
        "fitness=np.zeros(NPAR)\n",
        "trial=np.zeros(NPAR)\n",
        "prob=np.zeros(NPAR)\n",
        "GlobPars=np.zeros(PAR)\n",
        "GlobMins=np.zeros(runtime)\n",
        "GlobMin=1e99\n",
        "BestAll = 1e99\n",
        "for run in range(runtime):\n",
        "  f,Foods,GlobMin,GlobPars= initial(fitness,trial,f,Foods,GlobMin,GlobPars,MIN,MAX)\n",
        "  GlobMin,GlobPars,Foods=BestSource(GlobMin,GlobPars,Foods)\n",
        "\n",
        "  for iter in range(ITE):\n",
        "    trial,Foods=EmployedBees(trial,Foods,MIN,MAX)\n",
        "    fitness,prob=CalcProb(fitness,prob)\n",
        "    trial,Foods=OnlookerBees(trial,Foods,MIN,MAX)\n",
        "    GlobMin,GlobPars,Foods=BestSource(GlobMin,GlobPars,Foods)\n",
        "    trial,Foods=ScoutBees(fitness,f,Foods,trial,MIN,MAX)\n",
        "    if BestAll > GlobMin:\n",
        "      x_best = GlobPars\n",
        "      cost_best = GlobMin\n",
        "\n",
        "\n",
        "\n",
        "\n",
        "  print(\"run\",run+1,\"GBest=\",GlobMin,\" \\n\");\n",
        "  GlobMins[run]=GlobMin\n",
        "\n",
        "mean=np.average(GlobMins)\n",
        "\n",
        "\n",
        "print(\"Means of\",runtime,\"runs:\",mean,\"\\n\")"
      ]
    },
    {
      "cell_type": "code",
      "execution_count": null,
      "metadata": {
        "id": "qiYA3ag5XQKG",
        "colab": {
          "base_uri": "https://localhost:8080/"
        },
        "outputId": "667b8795-1be7-4bec-eb4c-98c792503848"
      },
      "outputs": [
        {
          "output_type": "execute_result",
          "data": {
            "text/plain": [
              "48"
            ]
          },
          "metadata": {},
          "execution_count": 15
        }
      ],
      "source": [
        "PAR"
      ]
    },
    {
      "cell_type": "code",
      "execution_count": null,
      "metadata": {
        "id": "yZMITaaL074s",
        "colab": {
          "base_uri": "https://localhost:8080/"
        },
        "outputId": "b0fca2b1-677c-4165-f3b3-8cd8724771da"
      },
      "outputs": [
        {
          "output_type": "stream",
          "name": "stdout",
          "text": [
            "Cost 1929171.8100951668\n",
            "Conditions [['C7', 'C2', 'C1'], ['C4', 'C6', 'C5'], ['C1', 'C6', 'C6'], ['C6', 'C3', 'C6'], ['C7', 'C1', 'C6'], ['C7', 'No', 'C5'], ['C6', 'C3', 'C4'], ['C5', 'C3', 'C4']]\n",
            "Temp {'H1': [180, 180, 110.7829950194745, 110.7829950194745], 'H2': [280, 280, 280, 120.0], 'H3': [180, 88.79009108402751, 88.79009108402751, 88.79009108402751], 'H4': [140, 123.67508376684654, 51.729084006823086, 51.729084006823086], 'H5': [220, 213.09790999837375, 213.09790999837375, 173.66701332913357], 'H6': [180, 180, 180, 180], 'H7': [200, 127.37024691182036, 110.33630686336473, 110.33630686336473], 'H8': [120, 93.55820571964696, 93.55820571964696, 89.52982035414828], 'C1': [40, 176.81486337395876, 176.81486337395876, 176.81486337395876], 'C2': [100, 134.60850249026274], 'C3': [40, 101.66799979430581, 116.26851983583921, 116.26851983583921], 'C4': [50, 50, 50, 63.42795121832892], 'C5': [50, 94.06965713392172, 254.06965713392174, 254.06965713392174], 'C6': [90, 99.79494973989208, 143.37280159279987, 143.37280159279987, 143.37280159279987, 143.37280159279987, 143.37280159279987, 182.8036982620401], 'C7': [160, 160, 165.75174166802188, 165.75174166802188]}\n",
            "GlobPars [0.92017067 0.30080211 0.12824699 0.52517688 0.77465313 0.70407809\n",
            " 0.17245049 0.84087259 0.75820064 0.86334252 0.43812652 0.77609693\n",
            " 0.98712389 0.24758236 0.80688014 0.91073365 0.03060133 0.65400634\n",
            " 0.79261895 0.4994278  0.54891237 0.74882808 0.49400931 0.62460069\n",
            " 0.91692886 0.65920957 0.8494898  0.86952682 0.78471872 1.\n",
            " 0.8686658  0.30700341 0.0961233  0.16324916 0.71946    0.63701796\n",
            " 0.0690209  0.22857005 0.39430897 0.83981    0.39175207 0.37907672\n",
            " 0.51878395 0.121671   0.81094994 0.33052243 0.29200271 0.05035482]\n"
          ]
        },
        {
          "output_type": "stream",
          "name": "stderr",
          "text": [
            "<ipython-input-4-88099c6ab93d>:139: RuntimeWarning: invalid value encountered in double_scalars\n",
            "  LMDT = (d1 - d2) / np.log(d1/d2)\n"
          ]
        }
      ],
      "source": [
        "Cost, Conditions, Temp =Cost_find(x_best,ans = True)\n",
        "print('Cost',Cost)\n",
        "print('Conditions',Conditions)\n",
        "print('Temp',Temp)\n",
        "print('GlobPars',GlobPars)"
      ]
    },
    {
      "cell_type": "code",
      "execution_count": null,
      "metadata": {
        "id": "F6hfb5yg0qXi"
      },
      "outputs": [],
      "source": []
    }
  ],
  "metadata": {
    "accelerator": "GPU",
    "colab": {
      "provenance": [],
      "include_colab_link": true
    },
    "gpuClass": "standard",
    "kernelspec": {
      "display_name": "Python 3",
      "name": "python3"
    }
  },
  "nbformat": 4,
  "nbformat_minor": 0
}