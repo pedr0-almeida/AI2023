{
  "nbformat": 4,
  "nbformat_minor": 0,
  "metadata": {
    "colab": {
      "provenance": [],
      "gpuType": "T4",
      "include_colab_link": true
    },
    "kernelspec": {
      "name": "python3",
      "display_name": "Python 3"
    },
    "language_info": {
      "name": "python"
    },
    "accelerator": "GPU"
  },
  "cells": [
    {
      "cell_type": "markdown",
      "metadata": {
        "id": "view-in-github",
        "colab_type": "text"
      },
      "source": [
        "<a href=\"https://colab.research.google.com/github/pedr0-almeida/AI2023/blob/main/tarefa_lixo_classificacao.ipynb\" target=\"_parent\"><img src=\"https://colab.research.google.com/assets/colab-badge.svg\" alt=\"Open In Colab\"/></a>"
      ]
    },
    {
      "cell_type": "code",
      "source": [
        "import tensorflow as tf\n",
        "from tensorflow.keras.layers import Input, Lambda, Dense, Flatten, Conv2D, BatchNormalization, ZeroPadding2D, MaxPool2D, Activation, add\n",
        "from tensorflow.keras.models import Model\n",
        "from tensorflow.keras.preprocessing import image\n",
        "from tensorflow.keras.preprocessing.image import ImageDataGenerator\n",
        "from tensorflow.keras.optimizers import Adam\n",
        "from tensorflow.keras.applications.mobilenet_v2 import preprocess_input\n",
        "\n",
        "import cv2\n",
        "import numpy as np\n",
        "\n",
        "from sklearn.metrics import confusion_matrix\n",
        "import numpy as np\n",
        "import matplotlib.pyplot as plt\n",
        "\n",
        "from glob import glob\n",
        "\n",
        "import zipfile\n",
        "import pandas as pd\n",
        "\n",
        "\n",
        "from sklearn.metrics import classification_report, confusion_matrix\n",
        "\n",
        "from keras.applications.mobilenet_v2 import MobileNetV2"
      ],
      "metadata": {
        "id": "7wNxYQBaKVJQ"
      },
      "execution_count": null,
      "outputs": []
    },
    {
      "cell_type": "code",
      "source": [
        "!gdown --id 1L4mdCDBgybKqr5Wo-kqT8HXcBJ9HXqSX"
      ],
      "metadata": {
        "colab": {
          "base_uri": "https://localhost:8080/"
        },
        "id": "Ea3bxyjq-kcq",
        "outputId": "80751087-d03d-4aa7-a34f-6f9c7d379a1c"
      },
      "execution_count": null,
      "outputs": [
        {
          "output_type": "stream",
          "name": "stdout",
          "text": [
            "/usr/local/lib/python3.10/dist-packages/gdown/cli.py:121: FutureWarning: Option `--id` was deprecated in version 4.3.1 and will be removed in 5.0. You don't need to pass it anymore to use a file ID.\n",
            "  warnings.warn(\n",
            "Downloading...\n",
            "From: https://drive.google.com/uc?id=1L4mdCDBgybKqr5Wo-kqT8HXcBJ9HXqSX\n",
            "To: /content/trash_nov_22_2018.zip\n",
            "100% 42.8M/42.8M [00:00<00:00, 79.0MB/s]\n"
          ]
        }
      ]
    },
    {
      "cell_type": "code",
      "source": [
        "FILE='trash_nov_22_2018.zip'"
      ],
      "metadata": {
        "id": "oyLilZ2l-loH"
      },
      "execution_count": null,
      "outputs": []
    },
    {
      "cell_type": "code",
      "source": [
        "archive = zipfile.ZipFile('trash_nov_22_2018.zip', 'r')\n",
        "archive.extractall()"
      ],
      "metadata": {
        "id": "XwXGEOlF_K1c"
      },
      "execution_count": null,
      "outputs": []
    },
    {
      "cell_type": "code",
      "source": [
        "img_name=[]\n",
        "with zipfile.ZipFile(FILE, \"r\") as f:\n",
        "    for name in f.namelist():\n",
        "        img_name.append(name)"
      ],
      "metadata": {
        "id": "cs5xKcmpAgOA"
      },
      "execution_count": null,
      "outputs": []
    },
    {
      "cell_type": "code",
      "source": [
        "Img_Size = 80\n",
        "ref = 'jpg'\n",
        "notref = 'met'"
      ],
      "metadata": {
        "id": "PVPFW06o_kw8"
      },
      "execution_count": null,
      "outputs": []
    },
    {
      "cell_type": "code",
      "source": [
        "X= []\n",
        "Y =[]\n",
        "n = len(img_name)\n",
        "i = 0\n",
        "for i in range(n):\n",
        "  name = img_name[i]\n",
        "  if(ref in name):\n",
        "    Y.append(name)\n",
        "    #X.append(cv2.imread(name,0))\n",
        "    #img = cv2.cvtColor(cv2.imread(name), cv2.COLOR_BGR2RGB)\n",
        "    img = cv2.resize(cv2.imread(name), (224, 224))\n",
        "    X.append(img)\n",
        "m = len(Y)\n",
        "X = np.array(X)\n",
        "print(n,m)"
      ],
      "metadata": {
        "id": "lAOB3uC3JG2V",
        "colab": {
          "base_uri": "https://localhost:8080/"
        },
        "outputId": "63f40d95-cace-4834-fc5a-f76b3bb96377"
      },
      "execution_count": null,
      "outputs": [
        {
          "output_type": "stream",
          "name": "stdout",
          "text": [
            "2527 2527\n"
          ]
        }
      ]
    },
    {
      "cell_type": "code",
      "source": [
        "arrayX = np.array(X)\n",
        "shapeX = arrayX.shape"
      ],
      "metadata": {
        "id": "igUJDyJlD6tc"
      },
      "execution_count": null,
      "outputs": []
    },
    {
      "cell_type": "code",
      "source": [
        "arrayY = np.array(Y)\n",
        "shapeY = arrayY.shape"
      ],
      "metadata": {
        "id": "BUoJStrgIn-p"
      },
      "execution_count": null,
      "outputs": []
    },
    {
      "cell_type": "code",
      "source": [
        "nome = Y[0]"
      ],
      "metadata": {
        "id": "S7JElo-vPNBp"
      },
      "execution_count": null,
      "outputs": []
    },
    {
      "cell_type": "code",
      "source": [
        "lista =[]\n",
        "for word in Y:\n",
        "  lista.append(word[0:4])"
      ],
      "metadata": {
        "id": "6RKlwXZ4PeLd"
      },
      "execution_count": null,
      "outputs": []
    },
    {
      "cell_type": "code",
      "source": [
        "types = list(set(lista))"
      ],
      "metadata": {
        "id": "Uw66_9S9QBGi"
      },
      "execution_count": null,
      "outputs": []
    },
    {
      "cell_type": "code",
      "source": [
        "types"
      ],
      "metadata": {
        "id": "lOMAZd-LR-jH",
        "outputId": "aaf27ec2-3dcf-4561-cd85-9ad7795a963d",
        "colab": {
          "base_uri": "https://localhost:8080/"
        }
      },
      "execution_count": null,
      "outputs": [
        {
          "output_type": "execute_result",
          "data": {
            "text/plain": [
              "['card', 'pape', 'plas', 'meta', 'glas', 'tras']"
            ]
          },
          "metadata": {},
          "execution_count": 13
        }
      ]
    },
    {
      "cell_type": "code",
      "source": [
        "y_data = []\n",
        "for word in Y:\n",
        "  if word[0:4] == types[0]:\n",
        "    y_data.append(0)\n",
        "  elif word[0:4] == types[1]:\n",
        "    y_data.append(1)\n",
        "  elif word[0:4] == types[2]:\n",
        "    y_data.append(2)\n",
        "  elif word[0:4] == types[3]:\n",
        "    y_data.append(3)\n",
        "  elif word[0:4] == types[4]:\n",
        "    y_data.append(4)\n",
        "  elif word[0:4] == types[5]:\n",
        "    y_data.append(5)\n",
        "  else:\n",
        "    y_data.append(6)"
      ],
      "metadata": {
        "id": "vnu-oz4eRF6A"
      },
      "execution_count": null,
      "outputs": []
    },
    {
      "cell_type": "code",
      "source": [
        "Y = y_data"
      ],
      "metadata": {
        "id": "PuGLxCVwSmDX"
      },
      "execution_count": null,
      "outputs": []
    },
    {
      "cell_type": "code",
      "source": [
        "from sklearn.model_selection import train_test_split"
      ],
      "metadata": {
        "id": "Z8PPKy0-ThNe"
      },
      "execution_count": null,
      "outputs": []
    },
    {
      "cell_type": "code",
      "source": [
        "X_train, X_test, y_train, y_test = train_test_split(X, Y, test_size=0.20, random_state=42)"
      ],
      "metadata": {
        "id": "gTxd-2upTsXE"
      },
      "execution_count": null,
      "outputs": []
    },
    {
      "cell_type": "code",
      "source": [
        "X_train[0].shape"
      ],
      "metadata": {
        "colab": {
          "base_uri": "https://localhost:8080/"
        },
        "id": "WLOXQc-aDvbA",
        "outputId": "4efe66b1-ac41-45e3-c7ef-43a8c9e7636b"
      },
      "execution_count": null,
      "outputs": [
        {
          "output_type": "execute_result",
          "data": {
            "text/plain": [
              "(224, 224, 3)"
            ]
          },
          "metadata": {},
          "execution_count": 18
        }
      ]
    },
    {
      "cell_type": "code",
      "source": [
        "df = pd.DataFrame({'class':y_train})\n",
        "y_train = pd.get_dummies(df['class'])"
      ],
      "metadata": {
        "id": "Z7lt-oCIK_UQ"
      },
      "execution_count": null,
      "outputs": []
    },
    {
      "cell_type": "code",
      "source": [
        "for i in range(6):\n",
        "  df_plot= df[(df[\"class\"] == i)]\n",
        "  n= df_plot.shape[0]\n",
        "  print(types[i],n)"
      ],
      "metadata": {
        "colab": {
          "base_uri": "https://localhost:8080/"
        },
        "id": "Nm-6Zzy2ZDoK",
        "outputId": "88b6181d-0b0f-4a26-923e-525599f1d767"
      },
      "execution_count": null,
      "outputs": [
        {
          "output_type": "stream",
          "name": "stdout",
          "text": [
            "card 332\n",
            "pape 476\n",
            "plas 383\n",
            "meta 323\n",
            "glas 394\n",
            "tras 113\n"
          ]
        }
      ]
    },
    {
      "cell_type": "code",
      "source": [
        "df = pd.DataFrame({'class':y_test})\n",
        "y_test = pd.get_dummies(df['class'])"
      ],
      "metadata": {
        "id": "wvoKcoU6L1Hb"
      },
      "execution_count": null,
      "outputs": []
    },
    {
      "cell_type": "code",
      "source": [
        "from tensorflow import keras\n",
        "from tensorflow.keras import layers\n",
        "\n",
        "# Criação do modelo\n",
        "model = keras.Sequential([\n",
        "    layers.Dense(64, activation='relu', input_shape=(10,)),\n",
        "    layers.Dense(64, activation='relu'),\n",
        "    layers.Dense(1, activation='sigmoid')\n",
        "])\n",
        "\n",
        "# Compilação do modelo\n",
        "model.compile(optimizer='adam', loss='binary_crossentropy', metrics=['accuracy'])"
      ],
      "metadata": {
        "id": "N_hIP3FYL6X0"
      },
      "execution_count": null,
      "outputs": []
    },
    {
      "cell_type": "code",
      "source": [
        "D = len(types)\n",
        "base_learning_rate = 0.0005\n",
        "optimizer_base = 'rms'\n",
        "fine_tune_at = 20\n",
        "epochs_base = 30\n",
        "\n",
        "def model(base_learning_rate, epochs_base,optimizer_base, fine_tune_at = fine_tune_at ):\n",
        "\n",
        "  model = MobileNetV2(weights='imagenet')\n",
        "  model_output = Dense(D, activation= 'softmax') #'relu')\n",
        "  model_output = model_output(model.layers[-2].output)\n",
        "  model_input = model.input\n",
        "  model_new = Model(inputs=model_input, outputs=model_output)\n",
        "\n",
        "  # Freeze all the layers before the `fine_tune_at` layer\n",
        "  for layer in model.layers[:fine_tune_at]:\n",
        "    layer.trainable = False\n",
        "\n",
        "  if optimizer_base == 'adam':\n",
        "    model_new.compile(optimizer=tf.keras.optimizers.Adam(learning_rate=base_learning_rate),\n",
        "                  loss=tf.keras.losses.CategoricalCrossentropy(from_logits=False),\n",
        "                  metrics=['accuracy'])\n",
        "  elif optimizer_base == 'rms':\n",
        "    model_new.compile(optimizer=tf.keras.optimizers.RMSprop(learning_rate=base_learning_rate/10),\n",
        "                  loss=tf.keras.losses.CategoricalCrossentropy(from_logits=False),\n",
        "                  metrics=['accuracy'])\n",
        "  else:\n",
        "    pass\n",
        "  r = model_new.fit(\n",
        "      x = X_train,\n",
        "      y = y_train,\n",
        "      validation_data=(X_test, y_test),\n",
        "      epochs=epochs_base,\n",
        "      verbose=2\n",
        "  )\n",
        "  return r"
      ],
      "metadata": {
        "id": "xlr3Tirxi_zo"
      },
      "execution_count": null,
      "outputs": []
    },
    {
      "cell_type": "code",
      "source": [
        "r  = model(base_learning_rate, epochs_base, optimizer_base)"
      ],
      "metadata": {
        "colab": {
          "base_uri": "https://localhost:8080/"
        },
        "id": "1M9OKrA1oemL",
        "outputId": "7dacf39e-1f02-4a25-db23-4a1eb3762810"
      },
      "execution_count": null,
      "outputs": [
        {
          "output_type": "stream",
          "name": "stdout",
          "text": [
            "Downloading data from https://storage.googleapis.com/tensorflow/keras-applications/mobilenet_v2/mobilenet_v2_weights_tf_dim_ordering_tf_kernels_1.0_224.h5\n",
            "14536120/14536120 [==============================] - 0s 0us/step\n",
            "Epoch 1/30\n",
            "64/64 - 38s - loss: 1.2442 - accuracy: 0.5369 - val_loss: 1.8860 - val_accuracy: 0.3063 - 38s/epoch - 600ms/step\n",
            "Epoch 2/30\n",
            "64/64 - 6s - loss: 0.6492 - accuracy: 0.7887 - val_loss: 1.5798 - val_accuracy: 0.4249 - 6s/epoch - 89ms/step\n",
            "Epoch 3/30\n",
            "64/64 - 6s - loss: 0.3759 - accuracy: 0.8976 - val_loss: 1.5769 - val_accuracy: 0.4269 - 6s/epoch - 88ms/step\n",
            "Epoch 4/30\n",
            "64/64 - 6s - loss: 0.2344 - accuracy: 0.9510 - val_loss: 1.5962 - val_accuracy: 0.4111 - 6s/epoch - 87ms/step\n",
            "Epoch 5/30\n",
            "64/64 - 6s - loss: 0.1253 - accuracy: 0.9812 - val_loss: 1.7253 - val_accuracy: 0.4209 - 6s/epoch - 88ms/step\n",
            "Epoch 6/30\n",
            "64/64 - 6s - loss: 0.0756 - accuracy: 0.9916 - val_loss: 1.6171 - val_accuracy: 0.4644 - 6s/epoch - 89ms/step\n",
            "Epoch 7/30\n",
            "64/64 - 6s - loss: 0.0461 - accuracy: 0.9955 - val_loss: 1.4103 - val_accuracy: 0.4980 - 6s/epoch - 88ms/step\n",
            "Epoch 8/30\n",
            "64/64 - 6s - loss: 0.0297 - accuracy: 0.9960 - val_loss: 1.4736 - val_accuracy: 0.5020 - 6s/epoch - 89ms/step\n",
            "Epoch 9/30\n",
            "64/64 - 6s - loss: 0.0245 - accuracy: 0.9970 - val_loss: 1.5197 - val_accuracy: 0.5178 - 6s/epoch - 91ms/step\n",
            "Epoch 10/30\n",
            "64/64 - 6s - loss: 0.0183 - accuracy: 0.9975 - val_loss: 1.5715 - val_accuracy: 0.5119 - 6s/epoch - 89ms/step\n",
            "Epoch 11/30\n",
            "64/64 - 6s - loss: 0.0136 - accuracy: 0.9975 - val_loss: 1.4743 - val_accuracy: 0.5296 - 6s/epoch - 90ms/step\n",
            "Epoch 12/30\n",
            "64/64 - 6s - loss: 0.0120 - accuracy: 0.9985 - val_loss: 1.4802 - val_accuracy: 0.5375 - 6s/epoch - 90ms/step\n",
            "Epoch 13/30\n",
            "64/64 - 6s - loss: 0.0127 - accuracy: 0.9970 - val_loss: 1.5878 - val_accuracy: 0.5277 - 6s/epoch - 91ms/step\n",
            "Epoch 14/30\n",
            "64/64 - 6s - loss: 0.0111 - accuracy: 0.9975 - val_loss: 1.9435 - val_accuracy: 0.5040 - 6s/epoch - 90ms/step\n",
            "Epoch 15/30\n",
            "64/64 - 6s - loss: 0.0073 - accuracy: 0.9990 - val_loss: 2.0718 - val_accuracy: 0.5178 - 6s/epoch - 91ms/step\n",
            "Epoch 16/30\n",
            "64/64 - 6s - loss: 0.0091 - accuracy: 0.9990 - val_loss: 2.0061 - val_accuracy: 0.5474 - 6s/epoch - 90ms/step\n",
            "Epoch 17/30\n",
            "64/64 - 6s - loss: 0.0093 - accuracy: 0.9980 - val_loss: 2.1773 - val_accuracy: 0.5593 - 6s/epoch - 91ms/step\n",
            "Epoch 18/30\n",
            "64/64 - 6s - loss: 0.0066 - accuracy: 0.9990 - val_loss: 1.9586 - val_accuracy: 0.5534 - 6s/epoch - 89ms/step\n",
            "Epoch 19/30\n",
            "64/64 - 6s - loss: 0.0053 - accuracy: 0.9980 - val_loss: 2.1033 - val_accuracy: 0.5336 - 6s/epoch - 90ms/step\n",
            "Epoch 20/30\n",
            "64/64 - 6s - loss: 0.0082 - accuracy: 0.9975 - val_loss: 1.9994 - val_accuracy: 0.5711 - 6s/epoch - 90ms/step\n",
            "Epoch 21/30\n",
            "64/64 - 6s - loss: 0.0091 - accuracy: 0.9965 - val_loss: 2.0370 - val_accuracy: 0.5929 - 6s/epoch - 91ms/step\n",
            "Epoch 22/30\n",
            "64/64 - 6s - loss: 0.0049 - accuracy: 0.9975 - val_loss: 1.8065 - val_accuracy: 0.6107 - 6s/epoch - 91ms/step\n",
            "Epoch 23/30\n",
            "64/64 - 6s - loss: 0.0069 - accuracy: 0.9980 - val_loss: 1.8864 - val_accuracy: 0.6107 - 6s/epoch - 90ms/step\n",
            "Epoch 24/30\n",
            "64/64 - 6s - loss: 0.0062 - accuracy: 0.9970 - val_loss: 1.6057 - val_accuracy: 0.6364 - 6s/epoch - 91ms/step\n",
            "Epoch 25/30\n",
            "64/64 - 6s - loss: 0.0044 - accuracy: 0.9985 - val_loss: 1.6773 - val_accuracy: 0.6304 - 6s/epoch - 90ms/step\n",
            "Epoch 26/30\n",
            "64/64 - 6s - loss: 0.0065 - accuracy: 0.9980 - val_loss: 1.7745 - val_accuracy: 0.6344 - 6s/epoch - 90ms/step\n",
            "Epoch 27/30\n",
            "64/64 - 6s - loss: 0.0040 - accuracy: 0.9985 - val_loss: 1.7094 - val_accuracy: 0.6482 - 6s/epoch - 89ms/step\n",
            "Epoch 28/30\n",
            "64/64 - 6s - loss: 0.0043 - accuracy: 0.9985 - val_loss: 1.5763 - val_accuracy: 0.6838 - 6s/epoch - 90ms/step\n",
            "Epoch 29/30\n",
            "64/64 - 6s - loss: 0.0053 - accuracy: 0.9980 - val_loss: 1.6178 - val_accuracy: 0.6700 - 6s/epoch - 90ms/step\n",
            "Epoch 30/30\n",
            "64/64 - 6s - loss: 0.0091 - accuracy: 0.9970 - val_loss: 1.4036 - val_accuracy: 0.7095 - 6s/epoch - 90ms/step\n"
          ]
        }
      ]
    },
    {
      "cell_type": "code",
      "source": [
        "plt.plot(r.history['accuracy'],label='accuracy')\n",
        "plt.plot(r.history['val_accuracy'],label='val_accuracy')\n",
        "plt.legend()"
      ],
      "metadata": {
        "id": "jHzp7p7mmvcT",
        "colab": {
          "base_uri": "https://localhost:8080/",
          "height": 448
        },
        "outputId": "c7306068-d0f3-43e8-d9cc-bbe7915c70bd"
      },
      "execution_count": null,
      "outputs": [
        {
          "output_type": "execute_result",
          "data": {
            "text/plain": [
              "<matplotlib.legend.Legend at 0x7fbe40889420>"
            ]
          },
          "metadata": {},
          "execution_count": 25
        },
        {
          "output_type": "display_data",
          "data": {
            "text/plain": [
              "<Figure size 640x480 with 1 Axes>"
            ],
            "image/png": "[encoded data removed]"
          },
          "metadata": {}
        }
      ]
    },
    {
      "cell_type": "code",
      "source": [
        "plt.plot(r.history['loss'],label='loss')\n",
        "plt.plot(r.history['val_loss'],label='val_loss')\n",
        "plt.legend()"
      ],
      "metadata": {
        "colab": {
          "base_uri": "https://localhost:8080/",
          "height": 448
        },
        "id": "pfysSeiUR2Z0",
        "outputId": "844fba95-8829-43c5-b1e2-8cacd3e556b3"
      },
      "execution_count": null,
      "outputs": [
        {
          "output_type": "execute_result",
          "data": {
            "text/plain": [
              "<matplotlib.legend.Legend at 0x7fbd95b8bfd0>"
            ]
          },
          "metadata": {},
          "execution_count": 27
        },
        {
          "output_type": "display_data",
          "data": {
            "text/plain": [
              "<Figure size 640x480 with 1 Axes>"
            ],
            "image/png": "[encoded data removed]"
          },
          "metadata": {}
        }
      ]
    },
    {
      "cell_type": "code",
      "source": [
        "def retorna(y):\n",
        "  resp = []\n",
        "  for yi in y:\n",
        "    vmax =max(yi)\n",
        "    for idx, x in enumerate(yi):\n",
        "      if(x == vmax):\n",
        "        resp.append(idx)\n",
        "  return resp"
      ],
      "metadata": {
        "id": "iTreVBcYR60E"
      },
      "execution_count": null,
      "outputs": []
    },
    {
      "cell_type": "code",
      "source": [
        "test_loss, test_acc = model_new.evaluate(X_test,  y_test, verbose = 2)"
      ],
      "metadata": {
        "id": "51T-WDEtmwdv",
        "colab": {
          "base_uri": "https://localhost:8080/"
        },
        "outputId": "4e74b2d3-c5f6-4f27-e806-73a7ee7afc57"
      },
      "execution_count": null,
      "outputs": [
        {
          "output_type": "stream",
          "name": "stdout",
          "text": [
            "16/16 - 1s - loss: 0.5611 - accuracy: 0.8281 - 669ms/epoch - 42ms/step\n"
          ]
        }
      ]
    },
    {
      "cell_type": "code",
      "source": [
        "predict = model_new.predict(X_test)"
      ],
      "metadata": {
        "id": "vdvVmD5XSJz_",
        "colab": {
          "base_uri": "https://localhost:8080/"
        },
        "outputId": "9b938ed0-0f2b-41c0-a82d-3569a9fb546e"
      },
      "execution_count": null,
      "outputs": [
        {
          "output_type": "stream",
          "name": "stdout",
          "text": [
            "16/16 [==============================] - 1s 33ms/step\n"
          ]
        }
      ]
    },
    {
      "cell_type": "code",
      "source": [
        "y_calc = retorna(predict)\n",
        "y_test = retorna(np.array(y_test))\n",
        "\n",
        "confusion_matrix(y_test, y_calc)"
      ],
      "metadata": {
        "id": "OJy8Cq22SQHY",
        "colab": {
          "base_uri": "https://localhost:8080/"
        },
        "outputId": "f82a58e6-1ffe-4dec-eab5-eb944b79e455"
      },
      "execution_count": null,
      "outputs": [
        {
          "output_type": "execute_result",
          "data": {
            "text/plain": [
              "array([[ 60,   5,   2,   4,   0,   0],\n",
              "       [  2, 109,   5,   2,   0,   0],\n",
              "       [  0,   0,  92,   1,   6,   0],\n",
              "       [  0,   2,   5,  79,   1,   0],\n",
              "       [  0,   1,  25,  11,  69,   1],\n",
              "       [  0,   2,   7,   5,   0,  10]])"
            ]
          },
          "metadata": {},
          "execution_count": 31
        }
      ]
    },
    {
      "cell_type": "code",
      "source": [
        "#Classification Report\n",
        "print('\\n\\n', classification_report(y_test, y_calc, target_names = types))"
      ],
      "metadata": {
        "id": "1Msg96_HSX87",
        "colab": {
          "base_uri": "https://localhost:8080/"
        },
        "outputId": "960430a7-c3de-4d1c-884c-738f10e0b3c6"
      },
      "execution_count": null,
      "outputs": [
        {
          "output_type": "stream",
          "name": "stdout",
          "text": [
            "\n",
            "\n",
            "               precision    recall  f1-score   support\n",
            "\n",
            "        card       0.97      0.85      0.90        71\n",
            "        pape       0.92      0.92      0.92       118\n",
            "        plas       0.68      0.93      0.78        99\n",
            "        meta       0.77      0.91      0.84        87\n",
            "        glas       0.91      0.64      0.75       107\n",
            "        tras       0.91      0.42      0.57        24\n",
            "\n",
            "    accuracy                           0.83       506\n",
            "   macro avg       0.86      0.78      0.79       506\n",
            "weighted avg       0.85      0.83      0.82       506\n",
            "\n"
          ]
        }
      ]
    },
    {
      "cell_type": "code",
      "source": [
        "import seaborn as sns\n",
        "from sklearn.metrics import confusion_matrix\n",
        "\n",
        "# Obtenha as previsões do modelo\n",
        "y_pred = model_new.predict(X_test)\n",
        "y_pred_types = np.argmax(y_pred, axis=1)\n",
        "\n",
        "# Crie a matriz de confusão\n",
        "cm = confusion_matrix(y_test, y_pred_types)\n",
        "\n",
        "# Normalize a matriz de confusão\n",
        "cm_normalized = cm.astype('float') / cm.sum(axis=1)[:, np.newaxis]\n",
        "\n",
        "# Crie o mapa de cores para a matriz de confusão\n",
        "cmap = sns.color_palette(\"Reds\")\n",
        "\n",
        "# Plote a matriz de confusão\n",
        "plt.figure(figsize=(4, 4))\n",
        "sns.heatmap(cm_normalized, annot=True, cmap=cmap)\n",
        "plt.xlabel('Predicted Labels')\n",
        "plt.ylabel('True Labels')\n",
        "plt.title('Confusion Matrix')\n",
        "plt.show()"
      ],
      "metadata": {
        "id": "u0zO3BTOSnzE",
        "colab": {
          "base_uri": "https://localhost:8080/",
          "height": 428
        },
        "outputId": "f456b72b-d5be-4e13-f8cf-76b087e6ccdd"
      },
      "execution_count": null,
      "outputs": [
        {
          "output_type": "stream",
          "name": "stdout",
          "text": [
            "16/16 [==============================] - 1s 37ms/step\n"
          ]
        },
        {
          "output_type": "display_data",
          "data": {
            "text/plain": [
              "<Figure size 400x400 with 2 Axes>"
            ],
            "image/png": "[encoded data removed]"
          },
          "metadata": {}
        }
      ]
    }
  ]
}