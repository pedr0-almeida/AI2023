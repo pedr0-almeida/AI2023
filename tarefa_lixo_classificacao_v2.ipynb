{
  "nbformat": 4,
  "nbformat_minor": 0,
  "metadata": {
    "colab": {
      "provenance": [],
      "gpuType": "T4",
      "include_colab_link": true
    },
    "kernelspec": {
      "name": "python3",
      "display_name": "Python 3"
    },
    "language_info": {
      "name": "python"
    },
    "accelerator": "GPU"
  },
  "cells": [
    {
      "cell_type": "markdown",
      "metadata": {
        "id": "view-in-github",
        "colab_type": "text"
      },
      "source": [
        "<a href=\"https://colab.research.google.com/github/pedr0-almeida/AI2023/blob/main/tarefa_lixo_classificacao_v2.ipynb\" target=\"_parent\"><img src=\"https://colab.research.google.com/assets/colab-badge.svg\" alt=\"Open In Colab\"/></a>"
      ]
    },
    {
      "cell_type": "code",
      "source": [
        "import tensorflow as tf\n",
        "from tensorflow.keras.layers import Input, Lambda, Dense, Flatten, Conv2D, BatchNormalization, ZeroPadding2D, MaxPool2D, Activation, add\n",
        "from tensorflow.keras.models import Model\n",
        "from tensorflow.keras.preprocessing import image\n",
        "from tensorflow.keras.preprocessing.image import ImageDataGenerator\n",
        "from tensorflow.keras.optimizers import Adam\n",
        "from tensorflow.keras.applications.mobilenet_v2 import preprocess_input\n",
        "\n",
        "import cv2\n",
        "import numpy as np\n",
        "\n",
        "from sklearn.metrics import confusion_matrix\n",
        "import numpy as np\n",
        "import matplotlib.pyplot as plt\n",
        "\n",
        "from glob import glob\n",
        "\n",
        "import zipfile\n",
        "import pandas as pd\n",
        "\n",
        "\n",
        "from sklearn.metrics import classification_report, confusion_matrix\n",
        "\n",
        "from keras.applications.mobilenet_v2 import MobileNetV2"
      ],
      "metadata": {
        "id": "7wNxYQBaKVJQ"
      },
      "execution_count": null,
      "outputs": []
    },
    {
      "cell_type": "code",
      "source": [
        "!gdown --id 1L4mdCDBgybKqr5Wo-kqT8HXcBJ9HXqSX"
      ],
      "metadata": {
        "colab": {
          "base_uri": "https://localhost:8080/"
        },
        "id": "Ea3bxyjq-kcq",
        "outputId": "c379186c-4c03-4d7f-f4ac-a6432b24359f"
      },
      "execution_count": null,
      "outputs": [
        {
          "output_type": "stream",
          "name": "stdout",
          "text": [
            "/usr/local/lib/python3.10/dist-packages/gdown/cli.py:121: FutureWarning: Option `--id` was deprecated in version 4.3.1 and will be removed in 5.0. You don't need to pass it anymore to use a file ID.\n",
            "  warnings.warn(\n",
            "Downloading...\n",
            "From: https://drive.google.com/uc?id=1L4mdCDBgybKqr5Wo-kqT8HXcBJ9HXqSX\n",
            "To: /content/trash_nov_22_2018.zip\n",
            "100% 42.8M/42.8M [00:00<00:00, 165MB/s]\n"
          ]
        }
      ]
    },
    {
      "cell_type": "code",
      "source": [
        "FILE='trash_nov_22_2018.zip'"
      ],
      "metadata": {
        "id": "oyLilZ2l-loH"
      },
      "execution_count": null,
      "outputs": []
    },
    {
      "cell_type": "code",
      "source": [
        "archive = zipfile.ZipFile('trash_nov_22_2018.zip', 'r')\n",
        "archive.extractall()"
      ],
      "metadata": {
        "id": "XwXGEOlF_K1c"
      },
      "execution_count": null,
      "outputs": []
    },
    {
      "cell_type": "code",
      "source": [
        "img_name=[]\n",
        "with zipfile.ZipFile(FILE, \"r\") as f:\n",
        "    for name in f.namelist():\n",
        "        img_name.append(name)"
      ],
      "metadata": {
        "id": "cs5xKcmpAgOA"
      },
      "execution_count": null,
      "outputs": []
    },
    {
      "cell_type": "code",
      "source": [
        "Img_Size = 80\n",
        "ref = 'jpg'\n",
        "notref = 'met'"
      ],
      "metadata": {
        "id": "PVPFW06o_kw8"
      },
      "execution_count": null,
      "outputs": []
    },
    {
      "cell_type": "code",
      "source": [
        "X= []\n",
        "Y =[]\n",
        "n = len(img_name)\n",
        "i = 0\n",
        "for i in range(n):\n",
        "  name = img_name[i]\n",
        "  if(ref in name):\n",
        "    Y.append(name)\n",
        "    #X.append(cv2.imread(name,0))\n",
        "    #img = cv2.cvtColor(cv2.imread(name), cv2.COLOR_BGR2RGB)\n",
        "    img = cv2.resize(cv2.imread(name), (224, 224))\n",
        "    X.append(img)\n",
        "m = len(Y)\n",
        "X = np.array(X)\n",
        "print(n,m)"
      ],
      "metadata": {
        "id": "lAOB3uC3JG2V",
        "colab": {
          "base_uri": "https://localhost:8080/"
        },
        "outputId": "64d47318-72bb-44f6-9e50-1d909aa9a861"
      },
      "execution_count": null,
      "outputs": [
        {
          "output_type": "stream",
          "name": "stdout",
          "text": [
            "2527 2527\n"
          ]
        }
      ]
    },
    {
      "cell_type": "code",
      "source": [
        "arrayX = np.array(X)\n",
        "shapeX = arrayX.shape"
      ],
      "metadata": {
        "id": "igUJDyJlD6tc"
      },
      "execution_count": null,
      "outputs": []
    },
    {
      "cell_type": "code",
      "source": [
        "arrayY = np.array(Y)\n",
        "shapeY = arrayY.shape"
      ],
      "metadata": {
        "id": "BUoJStrgIn-p"
      },
      "execution_count": null,
      "outputs": []
    },
    {
      "cell_type": "code",
      "source": [
        "nome = Y[0]"
      ],
      "metadata": {
        "id": "S7JElo-vPNBp"
      },
      "execution_count": null,
      "outputs": []
    },
    {
      "cell_type": "code",
      "source": [
        "lista =[]\n",
        "for word in Y:\n",
        "  lista.append(word[0:4])"
      ],
      "metadata": {
        "id": "6RKlwXZ4PeLd"
      },
      "execution_count": null,
      "outputs": []
    },
    {
      "cell_type": "code",
      "source": [
        "types = list(set(lista))"
      ],
      "metadata": {
        "id": "Uw66_9S9QBGi"
      },
      "execution_count": null,
      "outputs": []
    },
    {
      "cell_type": "code",
      "source": [
        "types"
      ],
      "metadata": {
        "id": "lOMAZd-LR-jH",
        "outputId": "736b8655-4d22-4072-c710-3ceb0ae5fe56",
        "colab": {
          "base_uri": "https://localhost:8080/"
        }
      },
      "execution_count": null,
      "outputs": [
        {
          "output_type": "execute_result",
          "data": {
            "text/plain": [
              "['meta', 'plas', 'card', 'glas', 'pape', 'tras']"
            ]
          },
          "metadata": {},
          "execution_count": 48
        }
      ]
    },
    {
      "cell_type": "code",
      "source": [
        "y_data = []\n",
        "for word in Y:\n",
        "  if word[0:4] == types[0]:\n",
        "    y_data.append(0)\n",
        "  elif word[0:4] == types[1]:\n",
        "    y_data.append(1)\n",
        "  elif word[0:4] == types[2]:\n",
        "    y_data.append(2)\n",
        "  elif word[0:4] == types[3]:\n",
        "    y_data.append(3)\n",
        "  elif word[0:4] == types[4]:\n",
        "    y_data.append(4)\n",
        "  elif word[0:4] == types[5]:\n",
        "    y_data.append(5)\n",
        "  else:\n",
        "    y_data.append(6)"
      ],
      "metadata": {
        "id": "vnu-oz4eRF6A"
      },
      "execution_count": null,
      "outputs": []
    },
    {
      "cell_type": "code",
      "source": [
        "Y = y_data"
      ],
      "metadata": {
        "id": "PuGLxCVwSmDX"
      },
      "execution_count": null,
      "outputs": []
    },
    {
      "cell_type": "code",
      "source": [
        "from sklearn.model_selection import train_test_split"
      ],
      "metadata": {
        "id": "Z8PPKy0-ThNe"
      },
      "execution_count": null,
      "outputs": []
    },
    {
      "cell_type": "code",
      "source": [
        "X_train, X_test, y_train, y_test = train_test_split(X, Y, test_size=0.20, random_state=42)"
      ],
      "metadata": {
        "id": "gTxd-2upTsXE"
      },
      "execution_count": null,
      "outputs": []
    },
    {
      "cell_type": "code",
      "source": [
        "X_train[0].shape"
      ],
      "metadata": {
        "colab": {
          "base_uri": "https://localhost:8080/"
        },
        "id": "WLOXQc-aDvbA",
        "outputId": "32dd5728-908e-4d4d-dba5-2ea855fe66c0"
      },
      "execution_count": null,
      "outputs": [
        {
          "output_type": "execute_result",
          "data": {
            "text/plain": [
              "(224, 224, 3)"
            ]
          },
          "metadata": {},
          "execution_count": 53
        }
      ]
    },
    {
      "cell_type": "code",
      "source": [
        "df = pd.DataFrame({'class':y_train})\n",
        "y_train = pd.get_dummies(df['class'])"
      ],
      "metadata": {
        "id": "Z7lt-oCIK_UQ"
      },
      "execution_count": null,
      "outputs": []
    },
    {
      "cell_type": "code",
      "source": [
        "for i in range(6):\n",
        "  df_plot= df[(df[\"class\"] == i)]\n",
        "  n= df_plot.shape[0]\n",
        "  print(types[i],n)"
      ],
      "metadata": {
        "colab": {
          "base_uri": "https://localhost:8080/"
        },
        "id": "Nm-6Zzy2ZDoK",
        "outputId": "7a144042-8418-473d-9c1f-23a195cf7564"
      },
      "execution_count": null,
      "outputs": [
        {
          "output_type": "stream",
          "name": "stdout",
          "text": [
            "meta 323\n",
            "plas 383\n",
            "card 332\n",
            "glas 394\n",
            "pape 476\n",
            "tras 113\n"
          ]
        }
      ]
    },
    {
      "cell_type": "code",
      "source": [
        "df = pd.DataFrame({'class':y_test})\n",
        "y_test = pd.get_dummies(df['class'])"
      ],
      "metadata": {
        "id": "wvoKcoU6L1Hb"
      },
      "execution_count": null,
      "outputs": []
    },
    {
      "cell_type": "code",
      "source": [
        "from tensorflow import keras\n",
        "from tensorflow.keras import layers\n",
        "\n",
        "# Criação do modelo\n",
        "model = keras.Sequential([\n",
        "    layers.Dense(64, activation='relu', input_shape=(10,)),\n",
        "    layers.Dense(64, activation='relu'),\n",
        "    layers.Dense(1, activation='sigmoid')\n",
        "])\n",
        "\n",
        "# Compilação do modelo\n",
        "model.compile(optimizer='adam', loss='binary_crossentropy', metrics=['accuracy'])"
      ],
      "metadata": {
        "id": "N_hIP3FYL6X0"
      },
      "execution_count": null,
      "outputs": []
    },
    {
      "cell_type": "code",
      "source": [
        "D = len(types)\n",
        "base_learning_rate = 0.0005\n",
        "optimizer_base = 'rms'\n",
        "fine_tune_at = 20\n",
        "epochs_base = 11\n",
        "\n",
        "def model(base_learning_rate, epochs_base,optimizer_base, fine_tune_at = fine_tune_at ):\n",
        "\n",
        "  model = MobileNetV2(weights='imagenet')\n",
        "  model_output = Dense(D, activation= 'softmax') #'relu')\n",
        "  model_output = model_output(model.layers[-2].output)\n",
        "  model_input = model.input\n",
        "  model_new = Model(inputs=model_input, outputs=model_output)\n",
        "\n",
        "  # Freeze all the layers before the `fine_tune_at` layer\n",
        "  for layer in model.layers[:fine_tune_at]:\n",
        "    layer.trainable = False\n",
        "\n",
        "  if optimizer_base == 'adam':\n",
        "    model_new.compile(optimizer=tf.keras.optimizers.Adam(learning_rate=base_learning_rate),\n",
        "                  loss=tf.keras.losses.CategoricalCrossentropy(from_logits=False),\n",
        "                  metrics=['accuracy'])\n",
        "  elif optimizer_base == 'rms':\n",
        "    model_new.compile(optimizer=tf.keras.optimizers.RMSprop(learning_rate=base_learning_rate/10),\n",
        "                  loss=tf.keras.losses.CategoricalCrossentropy(from_logits=False),\n",
        "                  metrics=['accuracy'])\n",
        "  else:\n",
        "    pass\n",
        "  r = model_new.fit(\n",
        "      x = X_train,\n",
        "      y = y_train,\n",
        "      validation_data=(X_test, y_test),\n",
        "      epochs=epochs_base,\n",
        "      verbose=2\n",
        "  )\n",
        "  return r"
      ],
      "metadata": {
        "id": "xlr3Tirxi_zo"
      },
      "execution_count": null,
      "outputs": []
    },
    {
      "cell_type": "code",
      "source": [
        "r  = model(base_learning_rate, epochs_base, optimizer_base)"
      ],
      "metadata": {
        "colab": {
          "base_uri": "https://localhost:8080/"
        },
        "id": "1M9OKrA1oemL",
        "outputId": "3d3c991d-f4e5-4b86-b4ae-91b3afecb0dc"
      },
      "execution_count": null,
      "outputs": [
        {
          "output_type": "stream",
          "name": "stdout",
          "text": [
            "Epoch 1/11\n",
            "64/64 - 25s - loss: 1.2562 - accuracy: 0.5166 - val_loss: 3.3710 - val_accuracy: 0.1146 - 25s/epoch - 392ms/step\n",
            "Epoch 2/11\n",
            "64/64 - 6s - loss: 0.6374 - accuracy: 0.7952 - val_loss: 2.6320 - val_accuracy: 0.1957 - 6s/epoch - 89ms/step\n",
            "Epoch 3/11\n",
            "64/64 - 6s - loss: 0.3748 - accuracy: 0.9070 - val_loss: 2.2294 - val_accuracy: 0.2925 - 6s/epoch - 90ms/step\n",
            "Epoch 4/11\n",
            "64/64 - 6s - loss: 0.2177 - accuracy: 0.9570 - val_loss: 2.3264 - val_accuracy: 0.2984 - 6s/epoch - 90ms/step\n",
            "Epoch 5/11\n",
            "64/64 - 6s - loss: 0.1179 - accuracy: 0.9817 - val_loss: 2.1315 - val_accuracy: 0.3538 - 6s/epoch - 89ms/step\n",
            "Epoch 6/11\n",
            "64/64 - 6s - loss: 0.0624 - accuracy: 0.9965 - val_loss: 2.0718 - val_accuracy: 0.4051 - 6s/epoch - 90ms/step\n",
            "Epoch 7/11\n",
            "64/64 - 6s - loss: 0.0386 - accuracy: 0.9960 - val_loss: 2.0627 - val_accuracy: 0.4328 - 6s/epoch - 91ms/step\n",
            "Epoch 8/11\n",
            "64/64 - 6s - loss: 0.0287 - accuracy: 0.9955 - val_loss: 2.0006 - val_accuracy: 0.4862 - 6s/epoch - 89ms/step\n",
            "Epoch 9/11\n",
            "64/64 - 6s - loss: 0.0199 - accuracy: 0.9980 - val_loss: 2.0113 - val_accuracy: 0.4960 - 6s/epoch - 90ms/step\n",
            "Epoch 10/11\n",
            "64/64 - 6s - loss: 0.0174 - accuracy: 0.9970 - val_loss: 1.8108 - val_accuracy: 0.5217 - 6s/epoch - 90ms/step\n",
            "Epoch 11/11\n",
            "64/64 - 6s - loss: 0.0127 - accuracy: 0.9985 - val_loss: 1.7833 - val_accuracy: 0.5455 - 6s/epoch - 92ms/step\n"
          ]
        }
      ]
    },
    {
      "cell_type": "code",
      "source": [
        "plt.plot(r.history['accuracy'],label='accuracy')\n",
        "plt.plot(r.history['val_accuracy'],label='val_accuracy')\n",
        "plt.legend()"
      ],
      "metadata": {
        "id": "jHzp7p7mmvcT",
        "colab": {
          "base_uri": "https://localhost:8080/",
          "height": 448
        },
        "outputId": "6a706941-4192-4c5d-db53-d261bb13b9a5"
      },
      "execution_count": null,
      "outputs": [
        {
          "output_type": "execute_result",
          "data": {
            "text/plain": [
              "<matplotlib.legend.Legend at 0x7fcc3a2c4490>"
            ]
          },
          "metadata": {},
          "execution_count": 60
        },
        {
          "output_type": "display_data",
          "data": {
            "text/plain": [
              "<Figure size 640x480 with 1 Axes>"
            ],
            "image/png": "[encoded data removed]"
          },
          "metadata": {}
        }
      ]
    },
    {
      "cell_type": "code",
      "source": [
        "plt.plot(r.history['loss'],label='loss')\n",
        "plt.plot(r.history['val_loss'],label='val_loss')\n",
        "plt.legend()"
      ],
      "metadata": {
        "colab": {
          "base_uri": "https://localhost:8080/",
          "height": 449
        },
        "id": "pfysSeiUR2Z0",
        "outputId": "854419ab-e24d-4365-da23-3917a5a40ccb"
      },
      "execution_count": null,
      "outputs": [
        {
          "output_type": "execute_result",
          "data": {
            "text/plain": [
              "<matplotlib.legend.Legend at 0x7fcc500ddcc0>"
            ]
          },
          "metadata": {},
          "execution_count": 61
        },
        {
          "output_type": "display_data",
          "data": {
            "text/plain": [
              "<Figure size 640x480 with 1 Axes>"
            ],
            "image/png": "[encoded data removed]"
          },
          "metadata": {}
        }
      ]
    },
    {
      "cell_type": "code",
      "source": [
        "epochs_base = 12\n",
        "model = MobileNetV2(weights='imagenet')\n",
        "model_output = Dense(D, activation= 'softmax') #'relu')\n",
        "model_output = model_output(model.layers[-2].output)\n",
        "model_input = model.input\n",
        "model_new = Model(inputs=model_input, outputs=model_output)\n",
        "model_new.compile(optimizer=tf.keras.optimizers.RMSprop(learning_rate=base_learning_rate/10),\n",
        "              loss=tf.keras.losses.CategoricalCrossentropy(from_logits=False),\n",
        "              metrics=['accuracy'])\n",
        "r = model_new.fit(\n",
        "    x=X_train,\n",
        "    y=y_train,\n",
        "    validation_data=(X_test, y_test),\n",
        "    epochs=epochs_base,\n",
        "    verbose=2\n",
        ")"
      ],
      "metadata": {
        "id": "YDrHlgztcoYC",
        "outputId": "b1b3903e-b4c6-4f76-cd97-a0cf350f5562",
        "colab": {
          "base_uri": "https://localhost:8080/"
        }
      },
      "execution_count": null,
      "outputs": [
        {
          "output_type": "stream",
          "name": "stdout",
          "text": [
            "Epoch 1/12\n",
            "64/64 - 30s - loss: 1.0349 - accuracy: 0.6239 - val_loss: 1.7681 - val_accuracy: 0.3221 - 30s/epoch - 475ms/step\n",
            "Epoch 2/12\n",
            "64/64 - 8s - loss: 0.4531 - accuracy: 0.8699 - val_loss: 1.6010 - val_accuracy: 0.4012 - 8s/epoch - 125ms/step\n",
            "Epoch 3/12\n",
            "64/64 - 8s - loss: 0.2438 - accuracy: 0.9377 - val_loss: 1.4346 - val_accuracy: 0.4704 - 8s/epoch - 126ms/step\n",
            "Epoch 4/12\n",
            "64/64 - 8s - loss: 0.1206 - accuracy: 0.9782 - val_loss: 1.2707 - val_accuracy: 0.5870 - 8s/epoch - 128ms/step\n",
            "Epoch 5/12\n",
            "64/64 - 8s - loss: 0.0589 - accuracy: 0.9941 - val_loss: 1.0033 - val_accuracy: 0.6561 - 8s/epoch - 128ms/step\n",
            "Epoch 6/12\n",
            "64/64 - 8s - loss: 0.0418 - accuracy: 0.9960 - val_loss: 0.9303 - val_accuracy: 0.7036 - 8s/epoch - 127ms/step\n",
            "Epoch 7/12\n",
            "64/64 - 8s - loss: 0.0217 - accuracy: 0.9975 - val_loss: 0.8510 - val_accuracy: 0.7391 - 8s/epoch - 127ms/step\n",
            "Epoch 8/12\n",
            "64/64 - 8s - loss: 0.0185 - accuracy: 0.9980 - val_loss: 0.8554 - val_accuracy: 0.7569 - 8s/epoch - 125ms/step\n",
            "Epoch 9/12\n",
            "64/64 - 8s - loss: 0.0147 - accuracy: 0.9980 - val_loss: 0.7635 - val_accuracy: 0.7885 - 8s/epoch - 128ms/step\n",
            "Epoch 10/12\n",
            "64/64 - 8s - loss: 0.0150 - accuracy: 0.9975 - val_loss: 0.7842 - val_accuracy: 0.7945 - 8s/epoch - 127ms/step\n",
            "Epoch 11/12\n",
            "64/64 - 8s - loss: 0.0097 - accuracy: 0.9980 - val_loss: 0.7031 - val_accuracy: 0.8043 - 8s/epoch - 126ms/step\n",
            "Epoch 12/12\n",
            "64/64 - 8s - loss: 0.0105 - accuracy: 0.9970 - val_loss: 0.7236 - val_accuracy: 0.8043 - 8s/epoch - 127ms/step\n"
          ]
        }
      ]
    },
    {
      "cell_type": "code",
      "source": [
        "plt.plot(r.history['loss'],label='loss')\n",
        "plt.plot(r.history['val_loss'],label='val_loss')\n",
        "plt.legend()"
      ],
      "metadata": {
        "id": "pl7TJU5icq-R",
        "outputId": "65b64b9a-5a5a-4c29-d4a6-bcbbebc83442",
        "colab": {
          "base_uri": "https://localhost:8080/",
          "height": 448
        }
      },
      "execution_count": null,
      "outputs": [
        {
          "output_type": "execute_result",
          "data": {
            "text/plain": [
              "<matplotlib.legend.Legend at 0x7fcbc8627280>"
            ]
          },
          "metadata": {},
          "execution_count": 63
        },
        {
          "output_type": "display_data",
          "data": {
            "text/plain": [
              "<Figure size 640x480 with 1 Axes>"
            ],
            "image/png": "[encoded data removed]"
          },
          "metadata": {}
        }
      ]
    },
    {
      "cell_type": "code",
      "source": [
        "plt.plot(r.history['accuracy'],label='accuracy')\n",
        "plt.plot(r.history['val_accuracy'],label='val_accuracy')\n",
        "plt.legend()"
      ],
      "metadata": {
        "id": "gDjvEVk0ct2P",
        "outputId": "88f86643-9af5-4e5b-f8ec-ab8db1174ce8",
        "colab": {
          "base_uri": "https://localhost:8080/",
          "height": 448
        }
      },
      "execution_count": null,
      "outputs": [
        {
          "output_type": "execute_result",
          "data": {
            "text/plain": [
              "<matplotlib.legend.Legend at 0x7fcbc869a4a0>"
            ]
          },
          "metadata": {},
          "execution_count": 64
        },
        {
          "output_type": "display_data",
          "data": {
            "text/plain": [
              "<Figure size 640x480 with 1 Axes>"
            ],
            "image/png": "[encoded data removed]"
          },
          "metadata": {}
        }
      ]
    },
    {
      "cell_type": "code",
      "source": [
        "test_loss, test_acc = model_new.evaluate(X_test,  y_test, verbose = 2)"
      ],
      "metadata": {
        "id": "51T-WDEtmwdv",
        "colab": {
          "base_uri": "https://localhost:8080/"
        },
        "outputId": "5b68f13d-05d3-4f2c-b31f-01e9d05916f1"
      },
      "execution_count": null,
      "outputs": [
        {
          "output_type": "stream",
          "name": "stdout",
          "text": [
            "16/16 - 1s - loss: 0.7236 - accuracy: 0.8043 - 569ms/epoch - 36ms/step\n"
          ]
        }
      ]
    },
    {
      "cell_type": "code",
      "source": [
        "def retorna(y):\n",
        "  resp = []\n",
        "  for yi in y:\n",
        "    vmax =max(yi)\n",
        "    for idx, x in enumerate(yi):\n",
        "      if(x == vmax):\n",
        "        resp.append(idx)\n",
        "  return resp"
      ],
      "metadata": {
        "id": "iTreVBcYR60E"
      },
      "execution_count": null,
      "outputs": []
    },
    {
      "cell_type": "code",
      "source": [
        "predict = model_new.predict(X_test)"
      ],
      "metadata": {
        "id": "vdvVmD5XSJz_",
        "colab": {
          "base_uri": "https://localhost:8080/"
        },
        "outputId": "625cdf66-59cd-4087-cfe1-9a5315ca3486"
      },
      "execution_count": null,
      "outputs": [
        {
          "output_type": "stream",
          "name": "stdout",
          "text": [
            "16/16 [==============================] - 1s 33ms/step\n"
          ]
        }
      ]
    },
    {
      "cell_type": "code",
      "source": [
        "y_calc = retorna(predict)\n",
        "y_test = retorna(np.array(y_test))\n",
        "\n",
        "confusion_matrix(y_test, y_calc)"
      ],
      "metadata": {
        "id": "OJy8Cq22SQHY",
        "colab": {
          "base_uri": "https://localhost:8080/"
        },
        "outputId": "88c97496-d99e-479b-c20f-8a6d0f7da453"
      },
      "execution_count": null,
      "outputs": [
        {
          "output_type": "execute_result",
          "data": {
            "text/plain": [
              "array([[ 78,   4,   0,   5,   0,   0],\n",
              "       [  3,  86,   0,   8,   2,   0],\n",
              "       [  4,   3,  54,   0,  10,   0],\n",
              "       [ 12,  19,   0,  76,   0,   0],\n",
              "       [  4,   6,   0,   0, 108,   0],\n",
              "       [  5,   7,   0,   1,   6,   5]])"
            ]
          },
          "metadata": {},
          "execution_count": 68
        }
      ]
    },
    {
      "cell_type": "code",
      "source": [
        "#Classification Report\n",
        "print('\\n\\n', classification_report(y_test, y_calc, target_names = types))"
      ],
      "metadata": {
        "id": "1Msg96_HSX87",
        "colab": {
          "base_uri": "https://localhost:8080/"
        },
        "outputId": "e808b2e8-7c45-4ef6-f832-ae788c577382"
      },
      "execution_count": null,
      "outputs": [
        {
          "output_type": "stream",
          "name": "stdout",
          "text": [
            "\n",
            "\n",
            "               precision    recall  f1-score   support\n",
            "\n",
            "        meta       0.74      0.90      0.81        87\n",
            "        plas       0.69      0.87      0.77        99\n",
            "        card       1.00      0.76      0.86        71\n",
            "        glas       0.84      0.71      0.77       107\n",
            "        pape       0.86      0.92      0.89       118\n",
            "        tras       1.00      0.21      0.34        24\n",
            "\n",
            "    accuracy                           0.80       506\n",
            "   macro avg       0.85      0.73      0.74       506\n",
            "weighted avg       0.83      0.80      0.80       506\n",
            "\n"
          ]
        }
      ]
    },
    {
      "cell_type": "code",
      "source": [
        "import seaborn as sns\n",
        "from sklearn.metrics import confusion_matrix\n",
        "\n",
        "# Obtenha as previsões do modelo\n",
        "y_pred = model_new.predict(X_test)\n",
        "y_pred_types = np.argmax(y_pred, axis=1)\n",
        "\n",
        "# Crie a matriz de confusão\n",
        "cm = confusion_matrix(y_test, y_pred_types)\n",
        "\n",
        "# Normalize a matriz de confusão\n",
        "cm_normalized = cm.astype('float') / cm.sum(axis=1)[:, np.newaxis]\n",
        "\n",
        "# Crie o mapa de cores para a matriz de confusão\n",
        "cmap = sns.color_palette(\"Greens\")\n",
        "\n",
        "# Plote a matriz de confusão\n",
        "plt.figure(figsize=(4, 4))\n",
        "sns.heatmap(cm_normalized, annot=True, cmap=cmap)\n",
        "plt.xlabel('Predicted Labels')\n",
        "plt.ylabel('True Labels')\n",
        "plt.title('Confusion Matrix')\n",
        "plt.show()"
      ],
      "metadata": {
        "id": "u0zO3BTOSnzE",
        "colab": {
          "base_uri": "https://localhost:8080/",
          "height": 428
        },
        "outputId": "83cba27b-933e-47b4-cea2-68e21aa68118"
      },
      "execution_count": null,
      "outputs": [
        {
          "output_type": "stream",
          "name": "stdout",
          "text": [
            "16/16 [==============================] - 1s 48ms/step\n"
          ]
        },
        {
          "output_type": "display_data",
          "data": {
            "text/plain": [
              "<Figure size 400x400 with 2 Axes>"
            ],
            "image/png": "[encoded data removed]"
          },
          "metadata": {}
        }
      ]
    }
  ]
}